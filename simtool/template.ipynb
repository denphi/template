{
 "cells": [
  {
   "cell_type": "code",
   "execution_count": null,
   "metadata": {},
   "outputs": [],
   "source": [
    "#Simtool to calculate diferent distances between two points"
   ]
  },
  {
   "cell_type": "code",
   "execution_count": null,
   "metadata": {},
   "outputs": [],
   "source": [
    "import math\n",
    "import simtool\n",
    "from scipy.spatial.distance import *\n",
    "%load_ext yamlmagic"
   ]
  },
  {
   "cell_type": "code",
   "execution_count": null,
   "metadata": {},
   "outputs": [],
   "source": [
    "%%yaml INPUTS\n",
    "\n",
    "point1X:\n",
    "    type : Number\n",
    "    description : first point, X coordinate\n",
    "    value : 5\n",
    "    min : 0\n",
    "    max : 10\n",
    "        \n",
    "point1Y:\n",
    "    type : Number\n",
    "    description : first point, Y coordinate \n",
    "    value : 5\n",
    "    min : 0\n",
    "    max : 10\n",
    "    \n",
    "point2X:\n",
    "    type : Number\n",
    "    description : second point, X coordinate \n",
    "    value : 15\n",
    "    min : 10\n",
    "    max : 20\n",
    "    \n",
    "point2Y:\n",
    "    type : Number\n",
    "    description : second point, Y coordinate \n",
    "    value : 15\n",
    "    min : 10\n",
    "    max : 20"
   ]
  },
  {
   "cell_type": "code",
   "execution_count": null,
   "metadata": {
    "tags": [
     "parameters"
    ]
   },
   "outputs": [],
   "source": [
    "parameters = simtool.utils.getValidatedInputs(INPUTS)\n",
    "if parameters:\n",
    "    globals().update(parameters)"
   ]
  },
  {
   "cell_type": "code",
   "execution_count": null,
   "metadata": {},
   "outputs": [],
   "source": [
    "%%yaml OUTPUTS\n",
    "\n",
    "Euclidean Distance:\n",
    "    type : Number\n",
    "    description : Euclidean distance between two numeric vectors\n",
    "    min : 0\n",
    "\n",
    "        \n",
    "Chebyshev Distance:\n",
    "    type : Number\n",
    "    description : Chebyshev distance between two numeric vectors\n",
    "    min : 0\n",
    "    \n",
    "Braycurtis Distance:\n",
    "    type : Number\n",
    "    description : Braycurtis distance between two numeric vectors\n",
    "    min : 0\n",
    "    \n",
    "Cosine Distance:\n",
    "    type : Number\n",
    "    description : Cosine distance between two numeric vectors\n",
    "    min : 0\n",
    "    \n",
    "Cityblock Distance:\n",
    "    type : Number\n",
    "    description : Cityblock/Manhattan distance between two numeric vectors\n",
    "    min : 0"
   ]
  },
  {
   "cell_type": "code",
   "execution_count": null,
   "metadata": {},
   "outputs": [],
   "source": [
    "db = simtool.DB(OUTPUTS)"
   ]
  },
  {
   "cell_type": "code",
   "execution_count": null,
   "metadata": {},
   "outputs": [],
   "source": [
    "euclidean_distance = euclidean([point1X, point1Y],[point2X, point2Y])\n",
    "db.save('Euclidean Distance', euclidean_distance)\n",
    "#euclidean_distance"
   ]
  },
  {
   "cell_type": "code",
   "execution_count": null,
   "metadata": {},
   "outputs": [],
   "source": [
    "braycurtis_distance = braycurtis([point1X, point1Y],[point2X, point2Y])\n",
    "db.save('Braycurtis Distance', braycurtis_distance)\n",
    "#braycurtis_distance"
   ]
  },
  {
   "cell_type": "code",
   "execution_count": null,
   "metadata": {
    "scrolled": true
   },
   "outputs": [],
   "source": [
    "cosine_distance = cosine([point1X, point1Y],[point2X, point2Y])\n",
    "db.save('Cosine Distance', cosine_distance)\n",
    "#cosine_distance"
   ]
  },
  {
   "cell_type": "code",
   "execution_count": null,
   "metadata": {},
   "outputs": [],
   "source": [
    "chebyshev_distance = chebyshev([point1X, point1Y],[point2X, point2Y])\n",
    "db.save('Chebyshev Distance', float(chebyshev_distance))\n",
    "#chebyshev_distance"
   ]
  },
  {
   "cell_type": "code",
   "execution_count": null,
   "metadata": {},
   "outputs": [],
   "source": [
    "cityblock_distance = cityblock([point1X, point1Y],[point2X, point2Y])\n",
    "db.save('Cityblock Distance', float(cityblock_distance))\n",
    "#cityblock_distance"
   ]
  }
 ],
 "metadata": {
  "celltoolbar": "Tags",
  "kernelspec": {
   "display_name": "Python 3",
   "language": "python",
   "name": "python3"
  },
  "language_info": {
   "codemirror_mode": {
    "name": "ipython",
    "version": 3
   },
   "file_extension": ".py",
   "mimetype": "text/x-python",
   "name": "python",
   "nbconvert_exporter": "python",
   "pygments_lexer": "ipython3",
   "version": "3.7.7"
  }
 },
 "nbformat": 4,
 "nbformat_minor": 2
}
