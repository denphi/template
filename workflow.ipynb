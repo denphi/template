{
 "cells": [
  {
   "cell_type": "code",
   "execution_count": null,
   "metadata": {},
   "outputs": [],
   "source": [
    "import simtool as st\n",
    "import ipywidgets as w"
   ]
  },
  {
   "cell_type": "code",
   "execution_count": null,
   "metadata": {},
   "outputs": [],
   "source": [
    "simToolName = \"template\""
   ]
  },
  {
   "cell_type": "code",
   "execution_count": null,
   "metadata": {},
   "outputs": [],
   "source": [
    "# get the list of inputs for the simtool.\n",
    "nb = st.utils.searchForSimTool(simToolName)\n",
    "#nb"
   ]
  },
  {
   "cell_type": "code",
   "execution_count": null,
   "metadata": {},
   "outputs": [],
   "source": [
    "inputs = st.utils.getSimToolInputs(nb)\n",
    "#inputs"
   ]
  },
  {
   "cell_type": "code",
   "execution_count": null,
   "metadata": {},
   "outputs": [],
   "source": [
    "outputs = st.utils.getSimToolOutputs(nb)"
   ]
  },
  {
   "cell_type": "code",
   "execution_count": null,
   "metadata": {},
   "outputs": [],
   "source": [
    "#inputs.point1X.value = 20\n",
    "#inputs.point1X.value = 9"
   ]
  },
  {
   "cell_type": "code",
   "execution_count": null,
   "metadata": {},
   "outputs": [],
   "source": [
    "r = st.Run(nb, inputs)"
   ]
  },
  {
   "cell_type": "code",
   "execution_count": null,
   "metadata": {},
   "outputs": [],
   "source": [
    "distance = r.read('Cityblock Distance')\n",
    "distance"
   ]
  },
  {
   "cell_type": "code",
   "execution_count": null,
   "metadata": {},
   "outputs": [],
   "source": [
    "def CalculateDistance (x1,y1,x2,y2,out):\n",
    "    inputs.point1X.value = x1\n",
    "    inputs.point1Y.value = y1\n",
    "    inputs.point2X.value = x2\n",
    "    inputs.point2Y.value = y2\n",
    "    r = st.Run(nb, inputs)\n",
    "    return (r.read(out))"
   ]
  },
  {
   "cell_type": "code",
   "execution_count": null,
   "metadata": {
    "scrolled": false
   },
   "outputs": [],
   "source": [
    "w.interact(\n",
    "    CalculateDistance, \n",
    "    x1 = inputs.point1X.value, \n",
    "    y1 =inputs.point1Y.value,\n",
    "    x2 =inputs.point2X.value, \n",
    "    y2 =inputs.point2Y.value,\n",
    "    out = w.fixed('Cityblock Distance')\n",
    ");"
   ]
  },
  {
   "cell_type": "code",
   "execution_count": null,
   "metadata": {},
   "outputs": [],
   "source": [
    "w.interact(\n",
    "    CalculateDistance, \n",
    "    x1 = w.IntSlider(min=inputs.point1X.min, max=inputs.point1X.max, step=1, value=inputs.point1X.value, continuous_update=False), \n",
    "    y1 = w.IntSlider(min=inputs.point1Y.min, max=inputs.point1Y.max, step=1, value=inputs.point1Y.value, continuous_update=False),\n",
    "    x2 = w.IntSlider(min=inputs.point2X.min, max=inputs.point2X.max, step=1, value=inputs.point2X.value, continuous_update=False), \n",
    "    y2 = w.IntSlider(min=inputs.point2Y.min, max=inputs.point2Y.max, step=1, value=inputs.point2Y.value, continuous_update=False),\n",
    "    out = w.Dropdown(options=outputs.keys())\n",
    ");"
   ]
  },
  {
   "cell_type": "code",
   "execution_count": null,
   "metadata": {},
   "outputs": [],
   "source": []
  },
  {
   "cell_type": "code",
   "execution_count": null,
   "metadata": {},
   "outputs": [],
   "source": []
  }
 ],
 "metadata": {
  "interpreter": {
   "hash": "2a3af49cc217b5f7b715ca7049402850e4e09e122de2cf72bd1f6a93892fb558"
  },
  "kernelspec": {
   "display_name": "Python 3",
   "language": "python",
   "name": "python3"
  },
  "language_info": {
   "codemirror_mode": {
    "name": "ipython",
    "version": 3
   },
   "file_extension": ".py",
   "mimetype": "text/x-python",
   "name": "python",
   "nbconvert_exporter": "python",
   "pygments_lexer": "ipython3",
   "version": "3.7.7"
  }
 },
 "nbformat": 4,
 "nbformat_minor": 2
}
